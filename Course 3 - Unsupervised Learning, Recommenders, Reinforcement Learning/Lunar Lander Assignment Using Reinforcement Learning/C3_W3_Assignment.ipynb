{
 "cells": [
  {
   "cell_type": "markdown",
   "metadata": {},
   "source": [
    "# Deep Q-Learning - Lunar Lander\n",
    "\n",
    "In this assignment, you will train an agent to land a lunar lander safely on a landing pad on the surface of the moon.\n",
    "\n",
    "\n",
    "# Outline\n",
    "- [ 1 - Import Packages <img align=\"Right\" src=\"./images/lunar_lander.gif\" width = 60% >](#1)\n",
    "- [ 2 - Hyperparameters](#2)\n",
    "- [ 3 - The Lunar Lander Environment](#3)\n",
    "  - [ 3.1 Action Space](#3.1)\n",
    "  - [ 3.2 Observation Space](#3.2)\n",
    "  - [ 3.3 Rewards](#3.3)\n",
    "  - [ 3.4 Episode Termination](#3.4)\n",
    "- [ 4 - Load the Environment](#4)\n",
    "- [ 5 - Interacting with the Gym Environment](#5)\n",
    "    - [ 5.1 Exploring the Environment's Dynamics](#5.1)\n",
    "- [ 6 - Deep Q-Learning](#6)\n",
    "  - [ 6.1 Target Network](#6.1)\n",
    "    - [ Exercise 1](#ex01)\n",
    "  - [ 6.2 Experience Replay](#6.2)\n",
    "- [ 7 - Deep Q-Learning Algorithm with Experience Replay](#7)\n",
    "  - [ Exercise 2](#ex02)\n",
    "- [ 8 - Update the Network Weights](#8)\n",
    "- [ 9 - Train the Agent](#9)\n",
    "- [ 10 - See the Trained Agent In Action](#10)\n",
    "- [ 11 - Congratulations!](#11)\n",
    "- [ 12 - References](#12)\n"
   ]
  },
  {
   "cell_type": "markdown",
   "metadata": {},
   "source": [
    "_**NOTE:** To prevent errors from the autograder, you are not allowed to edit or delete non-graded cells in this lab. Please also refrain from adding any new cells. \n",
    "**Once you have passed this assignment** and want to experiment with any of the non-graded code, you may follow the instructions at the bottom of this notebook._"
   ]
  },
  {
   "cell_type": "markdown",
   "metadata": {},
   "source": [
    "<a name=\"1\"></a>\n",
    "## 1 - Import Packages\n",
    "\n",
    "We'll make use of the following packages:\n",
    "- `numpy` is a package for scientific computing in python.\n",
    "- `deque` will be our data structure for our memory buffer.\n",
    "- `namedtuple` will be used to store the experience tuples.\n",
    "- The `gym` toolkit is a collection of environments that can be used to test reinforcement learning algorithms. We should note that in this notebook we are using `gym` version `0.24.0`.\n",
    "- `PIL.Image` and `pyvirtualdisplay` are needed to render the Lunar Lander environment.\n",
    "- We will use several modules from the `tensorflow.keras` framework for building deep learning models.\n",
    "- `utils` is a module that contains helper functions for this assignment. You do not need to modify the code in this file.\n",
    "\n",
    "Run the cell below to import all the necessary packages."
   ]
  },
  {
   "cell_type": "code",
   "execution_count": 21,
   "metadata": {
    "deletable": false,
    "editable": false,
    "id": "KYbOPKRtfQOr"
   },
   "outputs": [],
   "source": [
    "import time\n",
    "from collections import deque, namedtuple\n",
    "\n",
    "import gym\n",
    "import numpy as np\n",
    "import PIL.Image\n",
    "import tensorflow as tf\n",
    "import utils\n",
    "\n",
    "from pyvirtualdisplay import Display\n",
    "from tensorflow.keras import Sequential\n",
    "from tensorflow.keras.layers import Dense, Input\n",
    "from tensorflow.keras.losses import MSE\n",
    "from tensorflow.keras.optimizers import Adam"
   ]
  },
  {
   "cell_type": "code",
   "execution_count": 22,
   "metadata": {
    "deletable": false,
    "editable": false
   },
   "outputs": [],
   "source": [
    "# Set up a virtual display to render the Lunar Lander environment.\n",
    "Display(visible=0, size=(840, 480)).start();\n",
    "\n",
    "# Set the random seed for TensorFlow\n",
    "tf.random.set_seed(utils.SEED)"
   ]
  },
  {
   "cell_type": "markdown",
   "metadata": {},
   "source": [
    "<a name=\"2\"></a>\n",
    "## 2 - Hyperparameters\n",
    "\n",
    "Run the cell below to set the hyperparameters."
   ]
  },
  {
   "cell_type": "code",
   "execution_count": 23,
   "metadata": {
    "deletable": false,
    "editable": false
   },
   "outputs": [],
   "source": [
    "MEMORY_SIZE = 100_000     # size of memory buffer\n",
    "GAMMA = 0.995             # discount factor\n",
    "ALPHA = 1e-3              # learning rate  \n",
    "NUM_STEPS_FOR_UPDATE = 4  # perform a learning update every C time steps"
   ]
  },
  {
   "cell_type": "markdown",
   "metadata": {},
   "source": [
    "<a name=\"3\"></a>\n",
    "## 3 - The Lunar Lander Environment\n",
    "\n",
    "In this notebook we will be using [OpenAI's Gym Library](https://www.gymlibrary.dev/). The Gym library provides a wide variety of environments for reinforcement learning. To put it simply, an environment represents a problem or task to be solved. In this notebook, we will try to solve the Lunar Lander environment using reinforcement learning.\n",
    "\n",
    "The goal of the Lunar Lander environment is to land the lunar lander safely on the landing pad on the surface of the moon. The landing pad is designated by two flag poles and its center is at coordinates `(0,0)` but the lander is also allowed to land outside of the landing pad. The lander starts at the top center of the environment with a random initial force applied to its center of mass and has infinite fuel. The environment is considered solved if you get `200` points. \n",
    "\n",
    "<br>\n",
    "<br>\n",
    "<figure>\n",
    "  <img src = \"images/lunar_lander.gif\" width = 40%>\n",
    "      <figcaption style = \"text-align: center; font-style: italic\">Fig 1. Lunar Lander Environment.</figcaption>\n",
    "</figure>\n",
    "\n",
    "\n",
    "\n",
    "<a name=\"3.1\"></a>\n",
    "### 3.1 Action Space\n",
    "\n",
    "The agent has four discrete actions available:\n",
    "\n",
    "* Do nothing.\n",
    "* Fire right engine.\n",
    "* Fire main engine.\n",
    "* Fire left engine.\n",
    "\n",
    "Each action has a corresponding numerical value:\n",
    "\n",
    "```python\n",
    "Do nothing = 0\n",
    "Fire right engine = 1\n",
    "Fire main engine = 2\n",
    "Fire left engine = 3\n",
    "```\n",
    "\n",
    "<a name=\"3.2\"></a>\n",
    "### 3.2 Observation Space\n",
    "\n",
    "The agent's observation space consists of a state vector with 8 variables:\n",
    "\n",
    "* Its $(x,y)$ coordinates. The landing pad is always at coordinates $(0,0)$.\n",
    "* Its linear velocities $(\\dot x,\\dot y)$.\n",
    "* Its angle $\\theta$.\n",
    "* Its angular velocity $\\dot \\theta$.\n",
    "* Two booleans, $l$ and $r$, that represent whether each leg is in contact with the ground or not.\n",
    "\n",
    "<a name=\"3.3\"></a>\n",
    "### 3.3 Rewards\n",
    "\n",
    "After every step, a reward is granted. The total reward of an episode is the sum of the rewards for all the steps within that episode.\n",
    "\n",
    "For each step, the reward:\n",
    "- is increased/decreased the closer/further the lander is to the landing pad.\n",
    "- is increased/decreased the slower/faster the lander is moving.\n",
    "- is decreased the more the lander is tilted (angle not horizontal).\n",
    "- is increased by 10 points for each leg that is in contact with the ground.\n",
    "- is decreased by 0.03 points each frame a side engine is firing.\n",
    "- is decreased by 0.3 points each frame the main engine is firing.\n",
    "\n",
    "The episode receives an additional reward of -100 or +100 points for crashing or landing safely respectively.\n",
    "\n",
    "<a name=\"3.4\"></a>\n",
    "### 3.4 Episode Termination\n",
    "\n",
    "An episode ends (i.e the environment enters a terminal state) if:\n",
    "\n",
    "* The lunar lander crashes (i.e if the body of the lunar lander comes in contact with the surface of the moon).\n",
    "\n",
    "* The absolute value of the lander's $x$-coordinate is greater than 1 (i.e. it goes beyond the left or right border)\n",
    "\n",
    "You can check out the [Open AI Gym documentation](https://www.gymlibrary.dev/environments/box2d/lunar_lander/) for a full description of the environment. "
   ]
  },
  {
   "cell_type": "markdown",
   "metadata": {},
   "source": [
    "<a name=\"4\"></a>\n",
    "## 4 - Load the Environment\n",
    "\n",
    "We start by loading the `LunarLander-v2` environment from the `gym` library by using the `.make()` method. `LunarLander-v2` is the latest version of the Lunar Lander environment and you can read about its version history in the [Open AI Gym documentation](https://www.gymlibrary.dev/environments/box2d/lunar_lander/#version-history)."
   ]
  },
  {
   "cell_type": "code",
   "execution_count": 24,
   "metadata": {
    "deletable": false,
    "editable": false,
    "id": "ILVMYKewfR0n"
   },
   "outputs": [],
   "source": [
    "env = gym.make('LunarLander-v2')"
   ]
  },
  {
   "cell_type": "markdown",
   "metadata": {},
   "source": [
    "Once we load the environment we use the `.reset()` method to reset the environment to the initial state. The lander starts at the top center of the environment and we can render the first frame of the environment by using the `.render()` method."
   ]
  },
  {
   "cell_type": "code",
   "execution_count": 25,
   "metadata": {
    "deletable": false,
    "editable": false
   },
   "outputs": [
    {
     "data": {
      "image/png": "[encoded data removed]",
      "text/plain": [
       "<PIL.Image.Image image mode=RGB size=600x400 at 0x7FEFF08AF7D0>"
      ]
     },
     "execution_count": 25,
     "metadata": {},
     "output_type": "execute_result"
    }
   ],
   "source": [
    "env.reset()\n",
    "PIL.Image.fromarray(env.render(mode='rgb_array'))"
   ]
  },
  {
   "cell_type": "markdown",
   "metadata": {},
   "source": [
    "In order to build our neural network later on we need to know the size of the state vector and the number of valid actions. We can get this information from our environment by using the `.observation_space.shape` and `action_space.n` methods, respectively."
   ]
  },
  {
   "cell_type": "code",
   "execution_count": 26,
   "metadata": {
    "deletable": false,
    "editable": false,
    "id": "x3fdqdG4CUu2"
   },
   "outputs": [
    {
     "name": "stdout",
     "output_type": "stream",
     "text": [
      "State Shape: (8,)\n",
      "Number of actions: 4\n"
     ]
    }
   ],
   "source": [
    "state_size = env.observation_space.shape\n",
    "num_actions = env.action_space.n\n",
    "\n",
    "print('State Shape:', state_size)\n",
    "print('Number of actions:', num_actions)"
   ]
  },
  {
   "cell_type": "markdown",
   "metadata": {},
   "source": [
    "<a name=\"5\"></a>\n",
    "## 5 - Interacting with the Gym Environment\n",
    "\n",
    "The Gym library implements the standard “agent-environment loop” formalism:\n",
    "\n",
    "<br>\n",
    "<center>\n",
    "<video src = \"./videos/rl_formalism.m4v\" width=\"840\" height=\"480\" controls autoplay loop poster=\"./images/rl_formalism.png\"> </video>\n",
    "<figcaption style = \"text-align:center; font-style:italic\">Fig 2. Agent-environment Loop Formalism.</figcaption>\n",
    "</center>\n",
    "<br>\n",
    "\n",
    "In the standard “agent-environment loop” formalism, an agent interacts with the environment in discrete time steps $t=0,1,2,...$. At each time step $t$, the agent uses a policy $\\pi$ to select an action $A_t$ based on its observation of the environment's state $S_t$. The agent receives a numerical reward $R_t$ and on the next time step, moves to a new state $S_{t+1}$.\n",
    "\n",
    "<a name=\"5.1\"></a>\n",
    "### 5.1 Exploring the Environment's Dynamics\n",
    "\n",
    "In Open AI's Gym environments, we use the `.step()` method to run a single time step of the environment's dynamics. In the version of `gym` that we are using the `.step()` method accepts an action and returns four values:\n",
    "\n",
    "* `observation` (**object**): an environment-specific object representing your observation of the environment. In the Lunar Lander environment this corresponds to a numpy array containing the positions and velocities of the lander as described in section [3.2 Observation Space](#3.2).\n",
    "\n",
    "\n",
    "* `reward` (**float**): amount of reward returned as a result of taking the given action. In the Lunar Lander environment this corresponds to a float of type `numpy.float64` as described in section [3.3 Rewards](#3.3).\n",
    "\n",
    "\n",
    "* `done` (**boolean**): When done is `True`, it indicates the episode has terminated and it’s time to reset the environment. \n",
    "\n",
    "\n",
    "* `info` (**dictionary**): diagnostic information useful for debugging. We won't be using this variable in this notebook but it is shown here for completeness.\n",
    "\n",
    "To begin an episode, we need to reset the environment to an initial state. We do this by using the `.reset()` method. "
   ]
  },
  {
   "cell_type": "code",
   "execution_count": 27,
   "metadata": {
    "deletable": false,
    "editable": false
   },
   "outputs": [],
   "source": [
    "# Reset the environment and get the initial state.\n",
    "current_state = env.reset()"
   ]
  },
  {
   "cell_type": "markdown",
   "metadata": {},
   "source": [
    "Once the environment is reset, the agent can start taking actions in the environment by using the `.step()` method. Note that the agent can only take one action per time step. \n",
    "\n",
    "In the cell below you can select different actions and see how the returned values change depending on the action taken. Remember that in this environment the agent has four discrete actions available and we specify them in code by using their corresponding numerical value:\n",
    "\n",
    "```python\n",
    "Do nothing = 0\n",
    "Fire right engine = 1\n",
    "Fire main engine = 2\n",
    "Fire left engine = 3\n",
    "```"
   ]
  },
  {
   "cell_type": "code",
   "execution_count": 28,
   "metadata": {
    "deletable": false
   },
   "outputs": [
    {
     "data": {
      "text/html": [
       "<style  type=\"text/css\" >\n",
       "    #T_8356c950_df28_11ee_85d8_0242ac120051 th {\n",
       "          border: 1px solid grey;\n",
       "          text-align: center;\n",
       "    }    #T_8356c950_df28_11ee_85d8_0242ac120051 tbody td {\n",
       "          border: 1px solid grey;\n",
       "          text-align: center;\n",
       "    }    #T_8356c950_df28_11ee_85d8_0242ac120051row0_col0 {\n",
       "            background-color :  grey;\n",
       "        }    #T_8356c950_df28_11ee_85d8_0242ac120051row1_col1 {\n",
       "            background-color :  grey;\n",
       "        }    #T_8356c950_df28_11ee_85d8_0242ac120051row1_col2 {\n",
       "            background-color :  grey;\n",
       "        }    #T_8356c950_df28_11ee_85d8_0242ac120051row1_col3 {\n",
       "            background-color :  grey;\n",
       "        }    #T_8356c950_df28_11ee_85d8_0242ac120051row1_col4 {\n",
       "            background-color :  grey;\n",
       "        }    #T_8356c950_df28_11ee_85d8_0242ac120051row1_col5 {\n",
       "            background-color :  grey;\n",
       "        }    #T_8356c950_df28_11ee_85d8_0242ac120051row1_col6 {\n",
       "            background-color :  grey;\n",
       "        }    #T_8356c950_df28_11ee_85d8_0242ac120051row1_col7 {\n",
       "            background-color :  grey;\n",
       "        }    #T_8356c950_df28_11ee_85d8_0242ac120051row1_col8 {\n",
       "            background-color :  grey;\n",
       "        }    #T_8356c950_df28_11ee_85d8_0242ac120051row1_col9 {\n",
       "            background-color :  grey;\n",
       "        }    #T_8356c950_df28_11ee_85d8_0242ac120051row1_col10 {\n",
       "            background-color :  grey;\n",
       "        }    #T_8356c950_df28_11ee_85d8_0242ac120051row1_col11 {\n",
       "            background-color :  grey;\n",
       "        }    #T_8356c950_df28_11ee_85d8_0242ac120051row2_col0 {\n",
       "            background-color :  grey;\n",
       "        }    #T_8356c950_df28_11ee_85d8_0242ac120051row3_col1 {\n",
       "            background-color :  grey;\n",
       "        }    #T_8356c950_df28_11ee_85d8_0242ac120051row3_col2 {\n",
       "            background-color :  grey;\n",
       "        }    #T_8356c950_df28_11ee_85d8_0242ac120051row3_col3 {\n",
       "            background-color :  grey;\n",
       "        }    #T_8356c950_df28_11ee_85d8_0242ac120051row3_col4 {\n",
       "            background-color :  grey;\n",
       "        }    #T_8356c950_df28_11ee_85d8_0242ac120051row3_col5 {\n",
       "            background-color :  grey;\n",
       "        }    #T_8356c950_df28_11ee_85d8_0242ac120051row3_col6 {\n",
       "            background-color :  grey;\n",
       "        }    #T_8356c950_df28_11ee_85d8_0242ac120051row3_col7 {\n",
       "            background-color :  grey;\n",
       "        }    #T_8356c950_df28_11ee_85d8_0242ac120051row3_col8 {\n",
       "            background-color :  grey;\n",
       "        }    #T_8356c950_df28_11ee_85d8_0242ac120051row3_col9 {\n",
       "            background-color :  grey;\n",
       "        }    #T_8356c950_df28_11ee_85d8_0242ac120051row3_col10 {\n",
       "            background-color :  grey;\n",
       "        }    #T_8356c950_df28_11ee_85d8_0242ac120051row3_col11 {\n",
       "            background-color :  grey;\n",
       "        }    #T_8356c950_df28_11ee_85d8_0242ac120051row4_col1 {\n",
       "            background-color :  grey;\n",
       "        }    #T_8356c950_df28_11ee_85d8_0242ac120051row4_col2 {\n",
       "            background-color :  grey;\n",
       "        }    #T_8356c950_df28_11ee_85d8_0242ac120051row4_col3 {\n",
       "            background-color :  grey;\n",
       "        }    #T_8356c950_df28_11ee_85d8_0242ac120051row4_col4 {\n",
       "            background-color :  grey;\n",
       "        }    #T_8356c950_df28_11ee_85d8_0242ac120051row4_col5 {\n",
       "            background-color :  grey;\n",
       "        }    #T_8356c950_df28_11ee_85d8_0242ac120051row4_col6 {\n",
       "            background-color :  grey;\n",
       "        }    #T_8356c950_df28_11ee_85d8_0242ac120051row4_col7 {\n",
       "            background-color :  grey;\n",
       "        }    #T_8356c950_df28_11ee_85d8_0242ac120051row4_col8 {\n",
       "            background-color :  grey;\n",
       "        }    #T_8356c950_df28_11ee_85d8_0242ac120051row4_col9 {\n",
       "            background-color :  grey;\n",
       "        }    #T_8356c950_df28_11ee_85d8_0242ac120051row4_col10 {\n",
       "            background-color :  grey;\n",
       "        }    #T_8356c950_df28_11ee_85d8_0242ac120051row4_col11 {\n",
       "            background-color :  grey;\n",
       "        }</style><table id=\"T_8356c950_df28_11ee_85d8_0242ac120051\" ><thead>    <tr>        <th class=\"blank level0\" ></th>        <th class=\"col_heading level0 col0\" ></th>        <th class=\"col_heading level0 col1\" colspan=8>State Vector</th>        <th class=\"col_heading level0 col9\" colspan=3>Derived from the State Vector (the closer to zero, the better)</th>    </tr>    <tr>        <th class=\"blank level1\" ></th>        <th class=\"col_heading level1 col0\" ></th>        <th class=\"col_heading level1 col1\" colspan=2>Coordinate</th>        <th class=\"col_heading level1 col3\" colspan=2>Velocity</th>        <th class=\"col_heading level1 col5\" colspan=2>Tilting</th>        <th class=\"col_heading level1 col7\" colspan=2>Ground contact</th>        <th class=\"col_heading level1 col9\" >Distance from landing pad</th>        <th class=\"col_heading level1 col10\" >Velocity</th>        <th class=\"col_heading level1 col11\" >Tilting Angle (absolute value)</th>    </tr>    <tr>        <th class=\"blank level2\" ></th>        <th class=\"col_heading level2 col0\" ></th>        <th class=\"col_heading level2 col1\" >X (Horizontal)</th>        <th class=\"col_heading level2 col2\" >Y (Vertical)</th>        <th class=\"col_heading level2 col3\" >X (Horizontal)</th>        <th class=\"col_heading level2 col4\" >Y (Vertical)</th>        <th class=\"col_heading level2 col5\" >Angle</th>        <th class=\"col_heading level2 col6\" >Angular Velocity</th>        <th class=\"col_heading level2 col7\" >Left Leg?</th>        <th class=\"col_heading level2 col8\" >Right Leg?</th>        <th class=\"col_heading level2 col9\" ></th>        <th class=\"col_heading level2 col10\" ></th>        <th class=\"col_heading level2 col11\" ></th>    </tr></thead><tbody>\n",
       "                <tr>\n",
       "                        <th id=\"T_8356c950_df28_11ee_85d8_0242ac120051level0_row0\" class=\"row_heading level0 row0\" >Current State</th>\n",
       "                        <td id=\"T_8356c950_df28_11ee_85d8_0242ac120051row0_col0\" class=\"data row0 col0\" ></td>\n",
       "                        <td id=\"T_8356c950_df28_11ee_85d8_0242ac120051row0_col1\" class=\"data row0 col1\" >0.001919</td>\n",
       "                        <td id=\"T_8356c950_df28_11ee_85d8_0242ac120051row0_col2\" class=\"data row0 col2\" >1.422301</td>\n",
       "                        <td id=\"T_8356c950_df28_11ee_85d8_0242ac120051row0_col3\" class=\"data row0 col3\" >0.194400</td>\n",
       "                        <td id=\"T_8356c950_df28_11ee_85d8_0242ac120051row0_col4\" class=\"data row0 col4\" >0.505814</td>\n",
       "                        <td id=\"T_8356c950_df28_11ee_85d8_0242ac120051row0_col5\" class=\"data row0 col5\" >-0.002217</td>\n",
       "                        <td id=\"T_8356c950_df28_11ee_85d8_0242ac120051row0_col6\" class=\"data row0 col6\" >-0.044034</td>\n",
       "                        <td id=\"T_8356c950_df28_11ee_85d8_0242ac120051row0_col7\" class=\"data row0 col7\" >False</td>\n",
       "                        <td id=\"T_8356c950_df28_11ee_85d8_0242ac120051row0_col8\" class=\"data row0 col8\" >False</td>\n",
       "                        <td id=\"T_8356c950_df28_11ee_85d8_0242ac120051row0_col9\" class=\"data row0 col9\" >1.422302</td>\n",
       "                        <td id=\"T_8356c950_df28_11ee_85d8_0242ac120051row0_col10\" class=\"data row0 col10\" >0.541885</td>\n",
       "                        <td id=\"T_8356c950_df28_11ee_85d8_0242ac120051row0_col11\" class=\"data row0 col11\" >0.002217</td>\n",
       "            </tr>\n",
       "            <tr>\n",
       "                        <th id=\"T_8356c950_df28_11ee_85d8_0242ac120051level0_row1\" class=\"row_heading level0 row1\" >Action</th>\n",
       "                        <td id=\"T_8356c950_df28_11ee_85d8_0242ac120051row1_col0\" class=\"data row1 col0\" >Do nothing</td>\n",
       "                        <td id=\"T_8356c950_df28_11ee_85d8_0242ac120051row1_col1\" class=\"data row1 col1\" ></td>\n",
       "                        <td id=\"T_8356c950_df28_11ee_85d8_0242ac120051row1_col2\" class=\"data row1 col2\" ></td>\n",
       "                        <td id=\"T_8356c950_df28_11ee_85d8_0242ac120051row1_col3\" class=\"data row1 col3\" ></td>\n",
       "                        <td id=\"T_8356c950_df28_11ee_85d8_0242ac120051row1_col4\" class=\"data row1 col4\" ></td>\n",
       "                        <td id=\"T_8356c950_df28_11ee_85d8_0242ac120051row1_col5\" class=\"data row1 col5\" ></td>\n",
       "                        <td id=\"T_8356c950_df28_11ee_85d8_0242ac120051row1_col6\" class=\"data row1 col6\" ></td>\n",
       "                        <td id=\"T_8356c950_df28_11ee_85d8_0242ac120051row1_col7\" class=\"data row1 col7\" ></td>\n",
       "                        <td id=\"T_8356c950_df28_11ee_85d8_0242ac120051row1_col8\" class=\"data row1 col8\" ></td>\n",
       "                        <td id=\"T_8356c950_df28_11ee_85d8_0242ac120051row1_col9\" class=\"data row1 col9\" ></td>\n",
       "                        <td id=\"T_8356c950_df28_11ee_85d8_0242ac120051row1_col10\" class=\"data row1 col10\" ></td>\n",
       "                        <td id=\"T_8356c950_df28_11ee_85d8_0242ac120051row1_col11\" class=\"data row1 col11\" ></td>\n",
       "            </tr>\n",
       "            <tr>\n",
       "                        <th id=\"T_8356c950_df28_11ee_85d8_0242ac120051level0_row2\" class=\"row_heading level0 row2\" >Next State</th>\n",
       "                        <td id=\"T_8356c950_df28_11ee_85d8_0242ac120051row2_col0\" class=\"data row2 col0\" ></td>\n",
       "                        <td id=\"T_8356c950_df28_11ee_85d8_0242ac120051row2_col1\" class=\"data row2 col1\" >0.003839</td>\n",
       "                        <td id=\"T_8356c950_df28_11ee_85d8_0242ac120051row2_col2\" class=\"data row2 col2\" >1.433103</td>\n",
       "                        <td id=\"T_8356c950_df28_11ee_85d8_0242ac120051row2_col3\" class=\"data row2 col3\" >0.194137</td>\n",
       "                        <td id=\"T_8356c950_df28_11ee_85d8_0242ac120051row2_col4\" class=\"data row2 col4\" >0.480094</td>\n",
       "                        <td id=\"T_8356c950_df28_11ee_85d8_0242ac120051row2_col5\" class=\"data row2 col5\" >-0.004393</td>\n",
       "                        <td id=\"T_8356c950_df28_11ee_85d8_0242ac120051row2_col6\" class=\"data row2 col6\" >-0.043519</td>\n",
       "                        <td id=\"T_8356c950_df28_11ee_85d8_0242ac120051row2_col7\" class=\"data row2 col7\" >False</td>\n",
       "                        <td id=\"T_8356c950_df28_11ee_85d8_0242ac120051row2_col8\" class=\"data row2 col8\" >False</td>\n",
       "                        <td id=\"T_8356c950_df28_11ee_85d8_0242ac120051row2_col9\" class=\"data row2 col9\" >1.433108</td>\n",
       "                        <td id=\"T_8356c950_df28_11ee_85d8_0242ac120051row2_col10\" class=\"data row2 col10\" >0.517860</td>\n",
       "                        <td id=\"T_8356c950_df28_11ee_85d8_0242ac120051row2_col11\" class=\"data row2 col11\" >0.004393</td>\n",
       "            </tr>\n",
       "            <tr>\n",
       "                        <th id=\"T_8356c950_df28_11ee_85d8_0242ac120051level0_row3\" class=\"row_heading level0 row3\" >Reward</th>\n",
       "                        <td id=\"T_8356c950_df28_11ee_85d8_0242ac120051row3_col0\" class=\"data row3 col0\" >1.104326</td>\n",
       "                        <td id=\"T_8356c950_df28_11ee_85d8_0242ac120051row3_col1\" class=\"data row3 col1\" ></td>\n",
       "                        <td id=\"T_8356c950_df28_11ee_85d8_0242ac120051row3_col2\" class=\"data row3 col2\" ></td>\n",
       "                        <td id=\"T_8356c950_df28_11ee_85d8_0242ac120051row3_col3\" class=\"data row3 col3\" ></td>\n",
       "                        <td id=\"T_8356c950_df28_11ee_85d8_0242ac120051row3_col4\" class=\"data row3 col4\" ></td>\n",
       "                        <td id=\"T_8356c950_df28_11ee_85d8_0242ac120051row3_col5\" class=\"data row3 col5\" ></td>\n",
       "                        <td id=\"T_8356c950_df28_11ee_85d8_0242ac120051row3_col6\" class=\"data row3 col6\" ></td>\n",
       "                        <td id=\"T_8356c950_df28_11ee_85d8_0242ac120051row3_col7\" class=\"data row3 col7\" ></td>\n",
       "                        <td id=\"T_8356c950_df28_11ee_85d8_0242ac120051row3_col8\" class=\"data row3 col8\" ></td>\n",
       "                        <td id=\"T_8356c950_df28_11ee_85d8_0242ac120051row3_col9\" class=\"data row3 col9\" ></td>\n",
       "                        <td id=\"T_8356c950_df28_11ee_85d8_0242ac120051row3_col10\" class=\"data row3 col10\" ></td>\n",
       "                        <td id=\"T_8356c950_df28_11ee_85d8_0242ac120051row3_col11\" class=\"data row3 col11\" ></td>\n",
       "            </tr>\n",
       "            <tr>\n",
       "                        <th id=\"T_8356c950_df28_11ee_85d8_0242ac120051level0_row4\" class=\"row_heading level0 row4\" >Episode Terminated</th>\n",
       "                        <td id=\"T_8356c950_df28_11ee_85d8_0242ac120051row4_col0\" class=\"data row4 col0\" >False</td>\n",
       "                        <td id=\"T_8356c950_df28_11ee_85d8_0242ac120051row4_col1\" class=\"data row4 col1\" ></td>\n",
       "                        <td id=\"T_8356c950_df28_11ee_85d8_0242ac120051row4_col2\" class=\"data row4 col2\" ></td>\n",
       "                        <td id=\"T_8356c950_df28_11ee_85d8_0242ac120051row4_col3\" class=\"data row4 col3\" ></td>\n",
       "                        <td id=\"T_8356c950_df28_11ee_85d8_0242ac120051row4_col4\" class=\"data row4 col4\" ></td>\n",
       "                        <td id=\"T_8356c950_df28_11ee_85d8_0242ac120051row4_col5\" class=\"data row4 col5\" ></td>\n",
       "                        <td id=\"T_8356c950_df28_11ee_85d8_0242ac120051row4_col6\" class=\"data row4 col6\" ></td>\n",
       "                        <td id=\"T_8356c950_df28_11ee_85d8_0242ac120051row4_col7\" class=\"data row4 col7\" ></td>\n",
       "                        <td id=\"T_8356c950_df28_11ee_85d8_0242ac120051row4_col8\" class=\"data row4 col8\" ></td>\n",
       "                        <td id=\"T_8356c950_df28_11ee_85d8_0242ac120051row4_col9\" class=\"data row4 col9\" ></td>\n",
       "                        <td id=\"T_8356c950_df28_11ee_85d8_0242ac120051row4_col10\" class=\"data row4 col10\" ></td>\n",
       "                        <td id=\"T_8356c950_df28_11ee_85d8_0242ac120051row4_col11\" class=\"data row4 col11\" ></td>\n",
       "            </tr>\n",
       "    </tbody></table>"
      ],
      "text/plain": [
       "<pandas.io.formats.style.Styler at 0x7feff08afb90>"
      ]
     },
     "metadata": {},
     "output_type": "display_data"
    }
   ],
   "source": [
    "# Select an action\n",
    "action = 0\n",
    "\n",
    "# Run a single time step of the environment's dynamics with the given action.\n",
    "next_state, reward, done, _ = env.step(action)\n",
    "\n",
    "# Display table with values.\n",
    "utils.display_table(current_state, action, next_state, reward, done)\n",
    "\n",
    "# Replace the `current_state` with the state after the action is taken\n",
    "current_state = next_state"
   ]
  },
  {
   "cell_type": "markdown",
   "metadata": {},
   "source": [
    "In practice, when we train the agent we use a loop to allow the agent to take many consecutive actions during an episode."
   ]
  },
  {
   "cell_type": "markdown",
   "metadata": {},
   "source": [
    "<a name=\"6\"></a>\n",
    "## 6 - Deep Q-Learning\n",
    "\n",
    "In cases where both the state and action space are discrete we can estimate the action-value function iteratively by using the Bellman equation:\n",
    "\n",
    "$$\n",
    "Q_{i+1}(s,a) = R + \\gamma \\max_{a'}Q_i(s',a')\n",
    "$$\n",
    "\n",
    "This iterative method converges to the optimal action-value function $Q^*(s,a)$ as $i\\to\\infty$. This means that the agent just needs to gradually explore the state-action space and keep updating the estimate of $Q(s,a)$ until it converges to the optimal action-value function $Q^*(s,a)$. However, in cases where the state space is continuous it becomes practically impossible to explore the entire state-action space. Consequently, this also makes it practically impossible to gradually estimate $Q(s,a)$ until it converges to $Q^*(s,a)$.\n",
    "\n",
    "In the Deep $Q$-Learning, we solve this problem by using a neural network to estimate the action-value function $Q(s,a)\\approx Q^*(s,a)$. We call this neural network a $Q$-Network and it can be trained by adjusting its weights at each iteration to minimize the mean-squared error in the Bellman equation.\n",
    "\n",
    "Unfortunately, using neural networks in reinforcement learning to estimate action-value functions has proven to be highly unstable. Luckily, there's a couple of techniques that can be employed to avoid instabilities. These techniques consist of using a ***Target Network*** and ***Experience Replay***. We will explore these two techniques in the following sections."
   ]
  },
  {
   "cell_type": "markdown",
   "metadata": {},
   "source": [
    "<a name=\"6.1\"></a>\n",
    "### 6.1 Target Network\n",
    "\n",
    "We can train the $Q$-Network by adjusting it's weights at each iteration to minimize the mean-squared error in the Bellman equation, where the target values are given by:\n",
    "\n",
    "$$\n",
    "y = R + \\gamma \\max_{a'}Q(s',a';w)\n",
    "$$\n",
    "\n",
    "where $w$ are the weights of the $Q$-Network. This means that we are adjusting the weights $w$ at each iteration to minimize the following error:\n",
    "\n",
    "$$\n",
    "\\overbrace{\\underbrace{R + \\gamma \\max_{a'}Q(s',a'; w)}_{\\rm {y~target}} - Q(s,a;w)}^{\\rm {Error}}\n",
    "$$\n",
    "\n",
    "Notice that this forms a problem because the $y$ target is changing on every iteration. Having a constantly moving target can lead to oscillations and instabilities. To avoid this, we can create\n",
    "a separate neural network for generating the $y$ targets. We call this separate neural network the **target $\\hat Q$-Network** and it will have the same architecture as the original $Q$-Network. By using the target $\\hat Q$-Network, the above error becomes:\n",
    "\n",
    "$$\n",
    "\\overbrace{\\underbrace{R + \\gamma \\max_{a'}\\hat{Q}(s',a'; w^-)}_{\\rm {y~target}} - Q(s,a;w)}^{\\rm {Error}}\n",
    "$$\n",
    "\n",
    "where $w^-$ and $w$ are the weights of the target $\\hat Q$-Network and $Q$-Network, respectively.\n",
    "\n",
    "In practice, we will use the following algorithm: every $C$ time steps we will use the $\\hat Q$-Network to generate the $y$ targets and update the weights of the target $\\hat Q$-Network using the weights of the $Q$-Network. We will update the weights $w^-$ of the the target $\\hat Q$-Network using a **soft update**. This means that we will update the weights $w^-$ using the following rule:\n",
    " \n",
    "$$\n",
    "w^-\\leftarrow \\tau w + (1 - \\tau) w^-\n",
    "$$\n",
    "\n",
    "where $\\tau\\ll 1$. By using the soft update, we are ensuring that the target values, $y$, change slowly, which greatly improves the stability of our learning algorithm."
   ]
  },
  {
   "cell_type": "markdown",
   "metadata": {},
   "source": [
    "<a name=\"ex01\"></a>\n",
    "### Exercise 1\n",
    "\n",
    "In this exercise you will create the $Q$ and target $\\hat Q$ networks and set the optimizer. Remember that the Deep $Q$-Network (DQN) is a neural network that approximates the action-value function $Q(s,a)\\approx Q^*(s,a)$. It does this by learning how to map states to $Q$ values.\n",
    "\n",
    "To solve the Lunar Lander environment, we are going to employ a DQN with the following architecture:\n",
    "\n",
    "* An `Input` layer that takes `state_size` as input.\n",
    "\n",
    "* A `Dense` layer with `64` units and a `relu` activation function.\n",
    "\n",
    "* A `Dense` layer with `64` units and a `relu` activation function.\n",
    "\n",
    "* A `Dense` layer with `num_actions` units and a `linear` activation function. This will be the output layer of our network.\n",
    "\n",
    "\n",
    "In the cell below you should create the $Q$-Network and the target $\\hat Q$-Network using the model architecture described above. Remember that both the $Q$-Network and the target $\\hat Q$-Network have the same architecture.\n",
    "\n",
    "Lastly, you should set `Adam` as the optimizer with a learning rate equal to `ALPHA`. Recall that `ALPHA` was defined in the [Hyperparameters](#2) section. We should note that for this exercise you should use the already imported packages:\n",
    "```python\n",
    "from tensorflow.keras.layers import Dense, Input\n",
    "from tensorflow.keras.optimizers import Adam\n",
    "```"
   ]
  },
  {
   "cell_type": "code",
   "execution_count": 29,
   "metadata": {
    "deletable": false
   },
   "outputs": [],
   "source": [
    "# UNQ_C1\n",
    "# GRADED CELL\n",
    "\n",
    "# Create the Q-Network\n",
    "q_network = Sequential([\n",
    "    ### START CODE HERE ### \n",
    "    tf.keras.layers.Input(shape=state_size),\n",
    "    tf.keras.layers.Dense(units=64, activation = \"relu\"),\n",
    "    tf.keras.layers.Dense(units=64, activation = \"relu\"),\n",
    "    tf.keras.layers.Dense(units=num_actions, activation = \"linear\"),\n",
    "    \n",
    "    \n",
    "    \n",
    "    ### END CODE HERE ### \n",
    "    ])\n",
    "\n",
    "# Create the target Q^-Network\n",
    "target_q_network = Sequential([\n",
    "    ### START CODE HERE ### \n",
    "    tf.keras.layers.Input(shape=state_size),\n",
    "    tf.keras.layers.Dense(units=64, activation = \"relu\"),\n",
    "    tf.keras.layers.Dense(units=64, activation = \"relu\"),\n",
    "    tf.keras.layers.Dense(units=num_actions, activation = \"linear\"),\n",
    "    \n",
    "    \n",
    "    \n",
    "    ### END CODE HERE ###\n",
    "    ])\n",
    "\n",
    "### START CODE HERE ### \n",
    "optimizer = tf.keras.optimizers.Adam(learning_rate=ALPHA)\n",
    "### END CODE HERE ###"
   ]
  },
  {
   "cell_type": "code",
   "execution_count": 30,
   "metadata": {
    "deletable": false,
    "editable": false
   },
   "outputs": [
    {
     "name": "stdout",
     "output_type": "stream",
     "text": [
      "\u001b[92mAll tests passed!\n",
      "\u001b[92mAll tests passed!\n",
      "\u001b[92mAll tests passed!\n"
     ]
    }
   ],
   "source": [
    "# UNIT TEST\n",
    "from public_tests import *\n",
    "\n",
    "test_network(q_network)\n",
    "test_network(target_q_network)\n",
    "test_optimizer(optimizer, ALPHA) "
   ]
  },
  {
   "cell_type": "markdown",
   "metadata": {},
   "source": [
    "<details>\n",
    "  <summary><font size=\"3\" color=\"darkgreen\"><b>Click for hints</b></font></summary>\n",
    "    \n",
    "```python\n",
    "# Create the Q-Network\n",
    "q_network = Sequential([\n",
    "    Input(shape=state_size),                      \n",
    "    Dense(units=64, activation='relu'),            \n",
    "    Dense(units=64, activation='relu'),            \n",
    "    Dense(units=num_actions, activation='linear'),\n",
    "    ])\n",
    "\n",
    "# Create the target Q^-Network\n",
    "target_q_network = Sequential([\n",
    "    Input(shape=state_size),                       \n",
    "    Dense(units=64, activation='relu'),            \n",
    "    Dense(units=64, activation='relu'),            \n",
    "    Dense(units=num_actions, activation='linear'), \n",
    "    ])\n",
    "\n",
    "optimizer = Adam(learning_rate=ALPHA)                                  \n",
    "``` "
   ]
  },
  {
   "cell_type": "markdown",
   "metadata": {},
   "source": [
    "<a name=\"6.2\"></a>\n",
    "### 6.2 Experience Replay\n",
    "\n",
    "When an agent interacts with the environment, the states, actions, and rewards the agent experiences are sequential by nature. If the agent tries to learn from these consecutive experiences it can run into problems due to the strong correlations between them. To avoid this, we employ a technique known as **Experience Replay** to generate uncorrelated experiences for training our agent. Experience replay consists of storing the agent's experiences (i.e the states, actions, and rewards the agent receives) in a memory buffer and then sampling a random mini-batch of experiences from the buffer to do the learning. The experience tuples $(S_t, A_t, R_t, S_{t+1})$ will be added to the memory buffer at each time step as the agent interacts with the environment.\n",
    "\n",
    "For convenience, we will store the experiences as named tuples."
   ]
  },
  {
   "cell_type": "code",
   "execution_count": 31,
   "metadata": {
    "deletable": false,
    "editable": false
   },
   "outputs": [],
   "source": [
    "# Store experiences as named tuples\n",
    "experience = namedtuple(\"Experience\", field_names=[\"state\", \"action\", \"reward\", \"next_state\", \"done\"])"
   ]
  },
  {
   "cell_type": "markdown",
   "metadata": {},
   "source": [
    "By using experience replay we avoid problematic correlations, oscillations and instabilities. In addition, experience replay also allows the agent to potentially use the same experience in multiple weight updates, which increases data efficiency."
   ]
  },
  {
   "cell_type": "markdown",
   "metadata": {},
   "source": [
    "<a name=\"7\"></a>\n",
    "## 7 - Deep Q-Learning Algorithm with Experience Replay\n",
    "\n",
    "Now that we know all the techniques that we are going to use, we can put them together to arrive at the Deep Q-Learning Algorithm With Experience Replay.\n",
    "<br>\n",
    "<br>\n",
    "<figure>\n",
    "  <img src = \"images/deep_q_algorithm.png\" width = 90% style = \"border: thin silver solid; padding: 0px\">\n",
    "      <figcaption style = \"text-align: center; font-style: italic\">Fig 3. Deep Q-Learning with Experience Replay.</figcaption>\n",
    "</figure>"
   ]
  },
  {
   "cell_type": "markdown",
   "metadata": {},
   "source": [
    "<a name=\"ex02\"></a>\n",
    "### Exercise 2\n",
    "\n",
    "In this exercise you will implement line ***12*** of the algorithm outlined in *Fig 3* above and you will also compute the loss between the $y$ targets and the $Q(s,a)$ values. In the cell below, complete the `compute_loss` function by setting the $y$ targets equal to:\n",
    "\n",
    "$$\n",
    "\\begin{equation}\n",
    "    y_j =\n",
    "    \\begin{cases}\n",
    "      R_j & \\text{if episode terminates at step  } j+1\\\\\n",
    "      R_j + \\gamma \\max_{a'}\\hat{Q}(s_{j+1},a') & \\text{otherwise}\\\\\n",
    "    \\end{cases}       \n",
    "\\end{equation}\n",
    "$$\n",
    "\n",
    "Here are a couple of things to note:\n",
    "\n",
    "* The `compute_loss` function takes in a mini-batch of experience tuples. This mini-batch of experience tuples is unpacked to extract the `states`, `actions`, `rewards`, `next_states`, and `done_vals`. You should keep in mind that these variables are *TensorFlow Tensors* whose size will depend on the mini-batch size. For example, if the mini-batch size is `64` then both `rewards` and `done_vals` will be TensorFlow Tensors with `64` elements.\n",
    "\n",
    "\n",
    "* Using `if/else` statements to set the $y$ targets will not work when the variables are tensors with many elements. However, notice that you can use the `done_vals` to implement the above in a single line of code. To do this, recall that the `done` variable is a Boolean variable that takes the value `True` when an episode terminates at step $j+1$ and it is `False` otherwise. Taking into account that a Boolean value of `True` has the numerical value of `1` and a Boolean value of `False` has the numerical value of `0`, you can use the factor `(1 - done_vals)` to implement the above in a single line of code. Here's a hint: notice that `(1 - done_vals)` has a value of `0` when `done_vals` is `True` and a value of `1` when `done_vals` is `False`. \n",
    "\n",
    "Lastly, compute the loss by calculating the Mean-Squared Error (`MSE`) between the `y_targets` and the `q_values`. To calculate the mean-squared error you should use the already imported package `MSE`:\n",
    "```python\n",
    "from tensorflow.keras.losses import MSE\n",
    "```"
   ]
  },
  {
   "cell_type": "code",
   "execution_count": 32,
   "metadata": {
    "deletable": false
   },
   "outputs": [],
   "source": [
    "# UNQ_C2\n",
    "# GRADED FUNCTION: calculate_loss\n",
    "\n",
    "def compute_loss(experiences, gamma, q_network, target_q_network):\n",
    "    \"\"\" \n",
    "    Calculates the loss.\n",
    "    \n",
    "    Args:\n",
    "      experiences: (tuple) tuple of [\"state\", \"action\", \"reward\", \"next_state\", \"done\"] namedtuples\n",
    "      gamma: (float) The discount factor.\n",
    "      q_network: (tf.keras.Sequential) Keras model for predicting the q_values\n",
    "      target_q_network: (tf.keras.Sequential) Keras model for predicting the targets\n",
    "          \n",
    "    Returns:\n",
    "      loss: (TensorFlow Tensor(shape=(0,), dtype=int32)) the Mean-Squared Error between\n",
    "            the y targets and the Q(s,a) values.\n",
    "    \"\"\"\n",
    "\n",
    "    # Unpack the mini-batch of experience tuples\n",
    "    states, actions, rewards, next_states, done_vals = experiences\n",
    "    \n",
    "    # Compute max Q^(s,a)\n",
    "    max_qsa = tf.reduce_max(target_q_network(next_states), axis=-1)\n",
    "    \n",
    "    # Set y = R if episode terminates, otherwise set y = R + γ max Q^(s,a).\n",
    "    ### START CODE HERE ### \n",
    "    y_targets = rewards + (gamma * max_qsa * (1 - done_vals))\n",
    "    ### END CODE HERE ###\n",
    "    \n",
    "    # Get the q_values and reshape to match y_targets\n",
    "    q_values = q_network(states)\n",
    "    q_values = tf.gather_nd(q_values, tf.stack([tf.range(q_values.shape[0]),\n",
    "                                                tf.cast(actions, tf.int32)], axis=1))\n",
    "        \n",
    "    # Compute the loss\n",
    "    ### START CODE HERE ### \n",
    "    loss = MSE(y_targets, q_values)\n",
    "    ### END CODE HERE ### \n",
    "    \n",
    "    return loss"
   ]
  },
  {
   "cell_type": "code",
   "execution_count": 33,
   "metadata": {
    "deletable": false,
    "editable": false
   },
   "outputs": [
    {
     "name": "stdout",
     "output_type": "stream",
     "text": [
      "\u001b[92mAll tests passed!\n"
     ]
    }
   ],
   "source": [
    "# UNIT TEST    \n",
    "test_compute_loss(compute_loss)"
   ]
  },
  {
   "cell_type": "markdown",
   "metadata": {},
   "source": [
    "<details>\n",
    "  <summary><font size=\"3\" color=\"darkgreen\"><b>Click for hints</b></font></summary>\n",
    "    \n",
    "```python\n",
    "def compute_loss(experiences, gamma, q_network, target_q_network):\n",
    "    \"\"\" \n",
    "    Calculates the loss.\n",
    "    \n",
    "    Args:\n",
    "      experiences: (tuple) tuple of [\"state\", \"action\", \"reward\", \"next_state\", \"done\"] namedtuples\n",
    "      gamma: (float) The discount factor.\n",
    "      q_network: (tf.keras.Sequential) Keras model for predicting the q_values\n",
    "      target_q_network: (tf.keras.Sequential) Keras model for predicting the targets\n",
    "          \n",
    "    Returns:\n",
    "      loss: (TensorFlow Tensor(shape=(0,), dtype=int32)) the Mean-Squared Error between\n",
    "            the y targets and the Q(s,a) values.\n",
    "    \"\"\"\n",
    "\n",
    "    \n",
    "    # Unpack the mini-batch of experience tuples\n",
    "    states, actions, rewards, next_states, done_vals = experiences\n",
    "    \n",
    "    # Compute max Q^(s,a)\n",
    "    max_qsa = tf.reduce_max(target_q_network(next_states), axis=-1)\n",
    "    \n",
    "    # Set y = R if episode terminates, otherwise set y = R + γ max Q^(s,a).\n",
    "    y_targets = rewards + (gamma * max_qsa * (1 - done_vals))\n",
    "    \n",
    "    # Get the q_values\n",
    "    q_values = q_network(states)\n",
    "    q_values = tf.gather_nd(q_values, tf.stack([tf.range(q_values.shape[0]),\n",
    "                                                tf.cast(actions, tf.int32)], axis=1))\n",
    "    \n",
    "    # Calculate the loss\n",
    "    loss = MSE(y_targets, q_values)\n",
    "    \n",
    "    return loss\n",
    "\n",
    "``` \n",
    "    "
   ]
  },
  {
   "cell_type": "markdown",
   "metadata": {},
   "source": [
    "<a name=\"8\"></a>\n",
    "## 8 - Update the Network Weights\n",
    "\n",
    "We will use the `agent_learn` function below to implement lines ***12 -14*** of the algorithm outlined in [Fig 3](#7). The `agent_learn` function will update the weights of the $Q$ and target $\\hat Q$ networks using a custom training loop. Because we are using a custom training loop we need to retrieve the gradients via a `tf.GradientTape` instance, and then call `optimizer.apply_gradients()` to update the weights of our $Q$-Network. Note that we are also using the `@tf.function` decorator to increase performance. Without this decorator our training will take twice as long. If you would like to know more about how to increase performance with `@tf.function` take a look at the [TensorFlow documentation](https://www.tensorflow.org/guide/function).\n",
    "\n",
    "The last line of this function updates the weights of the target $\\hat Q$-Network using a [soft update](#6.1). If you want to know how this is implemented in code we encourage you to take a look at the `utils.update_target_network` function in the `utils` module."
   ]
  },
  {
   "cell_type": "code",
   "execution_count": 19,
   "metadata": {
    "deletable": false,
    "editable": false
   },
   "outputs": [],
   "source": [
    "@tf.function\n",
    "def agent_learn(experiences, gamma):\n",
    "    \"\"\"\n",
    "    Updates the weights of the Q networks.\n",
    "    \n",
    "    Args:\n",
    "      experiences: (tuple) tuple of [\"state\", \"action\", \"reward\", \"next_state\", \"done\"] namedtuples\n",
    "      gamma: (float) The discount factor.\n",
    "    \n",
    "    \"\"\"\n",
    "    \n",
    "    # Calculate the loss\n",
    "    with tf.GradientTape() as tape:\n",
    "        loss = compute_loss(experiences, gamma, q_network, target_q_network)\n",
    "\n",
    "    # Get the gradients of the loss with respect to the weights.\n",
    "    gradients = tape.gradient(loss, q_network.trainable_variables)\n",
    "    \n",
    "    # Update the weights of the q_network.\n",
    "    optimizer.apply_gradients(zip(gradients, q_network.trainable_variables))\n",
    "\n",
    "    # update the weights of target q_network\n",
    "    utils.update_target_network(q_network, target_q_network)"
   ]
  },
  {
   "cell_type": "markdown",
   "metadata": {},
   "source": [
    "<a name=\"9\"></a>\n",
    "## 9 - Train the Agent\n",
    "\n",
    "We are now ready to train our agent to solve the Lunar Lander environment. In the cell below we will implement the algorithm in [Fig 3](#7) line by line (please note that we have included the same algorithm below for easy reference. This will prevent you from scrolling up and down the notebook):\n",
    "\n",
    "* **Line 1**: We initialize the `memory_buffer` with a capacity of $N =$ `MEMORY_SIZE`. Notice that we are using a `deque` as the data structure for our `memory_buffer`.\n",
    "\n",
    "\n",
    "* **Line 2**: We skip this line since we already initialized the `q_network` in [Exercise 1](#ex01).\n",
    "\n",
    "\n",
    "* **Line 3**: We initialize the `target_q_network` by setting its weights to be equal to those of the `q_network`.\n",
    "\n",
    "\n",
    "* **Line 4**: We start the outer loop. Notice that we have set $M =$ `num_episodes = 2000`. This number is reasonable because the agent should be able to solve the Lunar Lander environment in less than `2000` episodes using this notebook's default parameters.\n",
    "\n",
    "\n",
    "* **Line 5**: We use the `.reset()` method to reset the environment to the initial state and get the initial state.\n",
    "\n",
    "\n",
    "* **Line 6**: We start the inner loop. Notice that we have set $T =$ `max_num_timesteps = 1000`. This means that the episode will automatically terminate if the episode hasn't terminated after `1000` time steps.\n",
    "\n",
    "\n",
    "* **Line 7**: The agent observes the current `state` and chooses an `action` using an $\\epsilon$-greedy policy. Our agent starts out using a value of $\\epsilon =$ `epsilon = 1` which yields an $\\epsilon$-greedy policy that is equivalent to the equiprobable random policy. This means that at the beginning of our training, the agent is just going to take random actions regardless of the observed `state`. As training progresses we will decrease the value of $\\epsilon$ slowly towards a minimum value using a given $\\epsilon$-decay rate. We want this minimum value to be close to zero because a value of $\\epsilon = 0$ will yield an $\\epsilon$-greedy policy that is equivalent to the greedy policy. This means that towards the end of training, the agent will lean towards selecting the `action` that it believes (based on its past experiences) will maximize $Q(s,a)$. We will set the minimum $\\epsilon$ value to be `0.01` and not exactly 0 because we always want to keep a little bit of exploration during training. If you want to know how this is implemented in code we encourage you to take a look at the `utils.get_action` function in the `utils` module.\n",
    "\n",
    "\n",
    "* **Line 8**: We use the `.step()` method to take the given `action` in the environment and get the `reward` and the `next_state`. \n",
    "\n",
    "\n",
    "* **Line 9**: We store the `experience(state, action, reward, next_state, done)` tuple in our `memory_buffer`. Notice that we also store the `done` variable so that we can keep track of when an episode terminates. This allowed us to set the $y$ targets in [Exercise 2](#ex02).\n",
    "\n",
    "\n",
    "* **Line 10**: We check if the conditions are met to perform a learning update. We do this by using our custom `utils.check_update_conditions` function. This function checks if $C =$ `NUM_STEPS_FOR_UPDATE = 4` time steps have occured and if our `memory_buffer` has enough experience tuples to fill a mini-batch. For example, if the mini-batch size is `64`, then our `memory_buffer` should have more than `64` experience tuples in order to pass the latter condition. If the conditions are met, then the `utils.check_update_conditions` function will return a value of `True`, otherwise it will return a value of `False`.\n",
    "\n",
    "\n",
    "* **Lines 11 - 14**: If the `update` variable is `True` then we perform a learning update. The learning update consists of sampling a random mini-batch of experience tuples from our `memory_buffer`, setting the $y$ targets, performing gradient descent, and updating the weights of the networks. We will use the `agent_learn` function we defined in [Section 8](#8) to perform the latter 3.\n",
    "\n",
    "\n",
    "* **Line 15**: At the end of each iteration of the inner loop we set `next_state` as our new `state` so that the loop can start again from this new state. In addition, we check if the episode has reached a terminal state (i.e we check if `done = True`). If a terminal state has been reached, then we break out of the inner loop.\n",
    "\n",
    "\n",
    "* **Line 16**: At the end of each iteration of the outer loop we update the value of $\\epsilon$, and check if the environment has been solved. We consider that the environment has been solved if the agent receives an average of `200` points in the last `100` episodes. If the environment has not been solved we continue the outer loop and start a new episode.\n",
    "\n",
    "Finally, we wanted to note that we have included some extra variables to keep track of the total number of points the agent received in each episode. This will help us determine if the agent has solved the environment and it will also allow us to see how our agent performed during training. We also use the `time` module to measure how long the training takes. \n",
    "\n",
    "<br>\n",
    "<br>\n",
    "<figure>\n",
    "  <img src = \"images/deep_q_algorithm.png\" width = 90% style = \"border: thin silver solid; padding: 0px\">\n",
    "      <figcaption style = \"text-align: center; font-style: italic\">Fig 4. Deep Q-Learning with Experience Replay.</figcaption>\n",
    "</figure>\n",
    "<br>\n",
    "\n",
    "**Note:** With this notebook's default parameters, the following cell takes between 10 to 15 minutes to run. "
   ]
  },
  {
   "cell_type": "code",
   "execution_count": 20,
   "metadata": {
    "deletable": false,
    "editable": false
   },
   "outputs": [
    {
     "name": "stdout",
     "output_type": "stream",
     "text": [
      "Episode 100 | Total point average of the last 100 episodes: -154.36\n",
      "Episode 200 | Total point average of the last 100 episodes: -142.74\n",
      "Episode 300 | Total point average of the last 100 episodes: -84.411\n",
      "Episode 400 | Total point average of the last 100 episodes: -50.23\n",
      "Episode 500 | Total point average of the last 100 episodes: -11.74\n",
      "Episode 600 | Total point average of the last 100 episodes: 121.79\n",
      "Episode 700 | Total point average of the last 100 episodes: 173.46\n",
      "Episode 736 | Total point average of the last 100 episodes: 200.77\n",
      "\n",
      "Environment solved in 736 episodes!\n",
      "\n",
      "Total Runtime: 1076.65 s (17.94 min)\n"
     ]
    }
   ],
   "source": [
    "start = time.time()\n",
    "\n",
    "num_episodes = 2000\n",
    "max_num_timesteps = 1000\n",
    "\n",
    "total_point_history = []\n",
    "\n",
    "num_p_av = 100    # number of total points to use for averaging\n",
    "epsilon = 1.0     # initial ε value for ε-greedy policy\n",
    "\n",
    "# Create a memory buffer D with capacity N\n",
    "memory_buffer = deque(maxlen=MEMORY_SIZE)\n",
    "\n",
    "# Set the target network weights equal to the Q-Network weights\n",
    "target_q_network.set_weights(q_network.get_weights())\n",
    "\n",
    "for i in range(num_episodes):\n",
    "    \n",
    "    # Reset the environment to the initial state and get the initial state\n",
    "    state = env.reset()\n",
    "    total_points = 0\n",
    "    \n",
    "    for t in range(max_num_timesteps):\n",
    "        \n",
    "        # From the current state S choose an action A using an ε-greedy policy\n",
    "        state_qn = np.expand_dims(state, axis=0)  # state needs to be the right shape for the q_network\n",
    "        q_values = q_network(state_qn)\n",
    "        action = utils.get_action(q_values, epsilon)\n",
    "        \n",
    "        # Take action A and receive reward R and the next state S'\n",
    "        next_state, reward, done, _ = env.step(action)\n",
    "        \n",
    "        # Store experience tuple (S,A,R,S') in the memory buffer.\n",
    "        # We store the done variable as well for convenience.\n",
    "        memory_buffer.append(experience(state, action, reward, next_state, done))\n",
    "        \n",
    "        # Only update the network every NUM_STEPS_FOR_UPDATE time steps.\n",
    "        update = utils.check_update_conditions(t, NUM_STEPS_FOR_UPDATE, memory_buffer)\n",
    "        \n",
    "        if update:\n",
    "            # Sample random mini-batch of experience tuples (S,A,R,S') from D\n",
    "            experiences = utils.get_experiences(memory_buffer)\n",
    "            \n",
    "            # Set the y targets, perform a gradient descent step,\n",
    "            # and update the network weights.\n",
    "            agent_learn(experiences, GAMMA)\n",
    "        \n",
    "        state = next_state.copy()\n",
    "        total_points += reward\n",
    "        \n",
    "        if done:\n",
    "            break\n",
    "            \n",
    "    total_point_history.append(total_points)\n",
    "    av_latest_points = np.mean(total_point_history[-num_p_av:])\n",
    "    \n",
    "    # Update the ε value\n",
    "    epsilon = utils.get_new_eps(epsilon)\n",
    "\n",
    "    print(f\"\\rEpisode {i+1} | Total point average of the last {num_p_av} episodes: {av_latest_points:.2f}\", end=\"\")\n",
    "\n",
    "    if (i+1) % num_p_av == 0:\n",
    "        print(f\"\\rEpisode {i+1} | Total point average of the last {num_p_av} episodes: {av_latest_points:.2f}\")\n",
    "\n",
    "    # We will consider that the environment is solved if we get an\n",
    "    # average of 200 points in the last 100 episodes.\n",
    "    if av_latest_points >= 200.0:\n",
    "        print(f\"\\n\\nEnvironment solved in {i+1} episodes!\")\n",
    "        q_network.save('lunar_lander_model.h5')\n",
    "        break\n",
    "        \n",
    "tot_time = time.time() - start\n",
    "\n",
    "print(f\"\\nTotal Runtime: {tot_time:.2f} s ({(tot_time/60):.2f} min)\")"
   ]
  },
  {
   "cell_type": "markdown",
   "metadata": {},
   "source": [
    "We can plot the total point history along with the moving average to see how our agent improved during training. If you want to know about the different plotting options available in the `utils.plot_history` function we encourage you to take a look at the `utils` module."
   ]
  },
  {
   "cell_type": "code",
   "execution_count": 34,
   "metadata": {
    "deletable": false,
    "editable": false,
    "id": "E_EUXxurfe8m",
    "scrolled": false
   },
   "outputs": [
    {
     "data": {
      "image/png": "[encoded data removed]",
      "text/plain": [
       "<Figure size 720x504 with 1 Axes>"
      ]
     },
     "metadata": {},
     "output_type": "display_data"
    }
   ],
   "source": [
    "# Plot the total point history along with the moving average\n",
    "utils.plot_history(total_point_history)"
   ]
  },
  {
   "cell_type": "markdown",
   "metadata": {
    "id": "c_xwgaX5MnYt"
   },
   "source": [
    "<a name=\"10\"></a>\n",
    "## 10 - See the Trained Agent In Action\n",
    "\n",
    "Now that we have trained our agent, we can see it in action. We will use the `utils.create_video` function to create a video of our agent interacting with the environment using the trained $Q$-Network. The `utils.create_video` function uses the `imageio` library to create the video. This library produces some warnings that can be distracting, so, to suppress these warnings we run the code below."
   ]
  },
  {
   "cell_type": "code",
   "execution_count": 35,
   "metadata": {
    "deletable": false,
    "editable": false
   },
   "outputs": [],
   "source": [
    "# Suppress warnings from imageio\n",
    "import logging\n",
    "logging.getLogger().setLevel(logging.ERROR)"
   ]
  },
  {
   "cell_type": "markdown",
   "metadata": {},
   "source": [
    "In the cell below we create a video of our agent interacting with the Lunar Lander environment using the trained `q_network`. The video is saved to the `videos` folder with the given `filename`. We use the `utils.embed_mp4` function to embed the video in the Jupyter Notebook so that we can see it here directly without having to download it.\n",
    "\n",
    "We should note that since the lunar lander starts with a random initial force applied to its center of mass, every time you run the cell below you will see a different video. If the agent was trained properly, it should be able to land the lunar lander in the landing pad every time, regardless of the initial force applied to its center of mass."
   ]
  },
  {
   "cell_type": "code",
   "execution_count": 37,
   "metadata": {
    "deletable": false,
    "editable": false,
    "id": "3Ttb_zLeJKiG"
   },
   "outputs": [
    {
     "data": {
      "text/html": [
       "\n",
       "    <video width=\"840\" height=\"480\" controls>\n",
       "    <source src=\"data:video/mp4;base64,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\" type=\"video/mp4\">\n",
       "    Your browser does not support the video tag.\n",
       "    </video>"
      ],
      "text/plain": [
       "<IPython.core.display.HTML object>"
      ]
     },
     "execution_count": 37,
     "metadata": {},
     "output_type": "execute_result"
    }
   ],
   "source": [
    "filename = \"./videos/lunar_lander.mp4\"\n",
    "\n",
    "utils.create_video(filename, env, q_network)\n",
    "utils.embed_mp4(filename)"
   ]
  },
  {
   "cell_type": "markdown",
   "metadata": {},
   "source": [
    "<a name=\"11\"></a>\n",
    "## 11 - Congratulations!\n",
    "\n",
    "You have successfully used Deep Q-Learning with Experience Replay to train an agent to land a lunar lander safely on a landing pad on the surface of the moon. Congratulations!"
   ]
  },
  {
   "cell_type": "markdown",
   "metadata": {},
   "source": [
    "<a name=\"12\"></a>\n",
    "## 12 - References\n",
    "\n",
    "If you would like to learn more about Deep Q-Learning, we recommend you check out the following papers.\n",
    "\n",
    "\n",
    "* Mnih, V., Kavukcuoglu, K., Silver, D. et al. Human-level control through deep reinforcement learning. Nature 518, 529–533 (2015).\n",
    "\n",
    "\n",
    "* Lillicrap, T. P., Hunt, J. J., Pritzel, A., et al. Continuous Control with Deep Reinforcement Learning. ICLR (2016).\n",
    "\n",
    "\n",
    "* Mnih, V., Kavukcuoglu, K., Silver, D. et al. Playing Atari with Deep Reinforcement Learning. arXiv e-prints.  arXiv:1312.5602 (2013)."
   ]
  },
  {
   "cell_type": "markdown",
   "metadata": {},
   "source": [
    "<details>\n",
    "  <summary><font size=\"2\" color=\"darkgreen\"><b>Please click here if you want to experiment with any of the non-graded code.</b></font></summary>\n",
    "    <p><i><b>Important Note: Please only do this when you've already passed the assignment to avoid problems with the autograder.</b></i>\n",
    "    <ol>\n",
    "        <li> On the notebook’s menu, click “View” > “Cell Toolbar” > “Edit Metadata”</li>\n",
    "        <li> Hit the “Edit Metadata” button next to the code cell which you want to lock/unlock</li>\n",
    "        <li> Set the attribute value for “editable” to:\n",
    "            <ul>\n",
    "                <li> “true” if you want to unlock it </li>\n",
    "                <li> “false” if you want to lock it </li>\n",
    "            </ul>\n",
    "        </li>\n",
    "        <li> On the notebook’s menu, click “View” > “Cell Toolbar” > “None” </li>\n",
    "    </ol>\n",
    "    <p> Here's a short demo of how to do the steps above: \n",
    "        <br>\n",
    "        <img src=\"https://lh3.google.com/u/0/d/14Xy_Mb17CZVgzVAgq7NCjMVBvSae3xO1\" align=\"center\" alt=\"unlock_cells.gif\">\n",
    "</details>"
   ]
  }
 ],
 "metadata": {
  "accelerator": "GPU",
  "colab": {
   "collapsed_sections": [],
   "name": "TensorFlow - Lunar Lander.ipynb",
   "provenance": []
  },
  "kernelspec": {
   "display_name": "Python 3",
   "language": "python",
   "name": "python3"
  },
  "language_info": {
   "codemirror_mode": {
    "name": "ipython",
    "version": 3
   },
   "file_extension": ".py",
   "mimetype": "text/x-python",
   "name": "python",
   "nbconvert_exporter": "python",
   "pygments_lexer": "ipython3",
   "version": "3.7.6"
  }
 },
 "nbformat": 4,
 "nbformat_minor": 1
}
